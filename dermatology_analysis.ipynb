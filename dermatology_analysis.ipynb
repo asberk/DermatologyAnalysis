{
 "cells": [
  {
   "cell_type": "markdown",
   "metadata": {},
   "source": [
    "# Dermatology Analysis\n",
    "\n",
    "#### Tariq Hassan, Jan. 2018."
   ]
  },
  {
   "cell_type": "markdown",
   "metadata": {},
   "source": [
    "---"
   ]
  },
  {
   "cell_type": "markdown",
   "metadata": {},
   "source": [
    "## Introduction\n"
   ]
  },
  {
   "cell_type": "markdown",
   "metadata": {},
   "source": [
    "In this report I will be exploring the *Dermatology Data Set* from the UCI Machine Learning Repository (available [here](http://archive.ics.uci.edu/ml/datasets/Dermatology)). This dataset contain 34 predictors for six kinds of erythemato-squamous diseases (ESD). These features are divided into two classes: 'clinical' and 'histopathological' features. The former can be obtained simply by inspecting the skin or asking the patient a simple question (e.g., \"do you have a history of this disease in your family, yes or no?\"). The latter requires analysis in a medical laboratory.\n",
    "\n",
    "\n",
    "This project aims to find the most predictive of the *clinical* features for predicting the presence of ESDs. Specifically, I am to find the five most predictive clinical features, out of the twelve provided in the dataset. There is nothing especially magical about the number five here, but by keeping the number of features low there is reduced difficulty in a human remembering all of the important predictors. In short, I would like, by the end of these document, to finish this sentence: \"The top five clinical predictors of ESDs are: ...\". Moreover, I'd like to be able to tell readers just how powerful these features are in predicting these diseases.\n",
    "\n",
    "In this project, not only would I like to have an output that is easy to understand, but obtain this result using a model that is also easy to grasp. So, I've opted to use random forests, as they can easily be converted into rules for a human to follow. "
   ]
  },
  {
   "cell_type": "markdown",
   "metadata": {},
   "source": [
    "---"
   ]
  },
  {
   "cell_type": "markdown",
   "metadata": {},
   "source": [
    "## Dependencies"
   ]
  },
  {
   "cell_type": "code",
   "execution_count": 1,
   "metadata": {},
   "outputs": [],
   "source": [
    "import numpy as np\n",
    "import pandas as pd\n",
    "import seaborn as sns\n",
    "from pprint import pprint\n",
    "import matplotlib as matplt\n",
    "import matplotlib.pyplot as plt\n",
    "from pandas_ml import ConfusionMatrix\n",
    "\n",
    "from sklearn.preprocessing import scale\n",
    "from sklearn.feature_selection import RFE\n",
    "from sklearn.ensemble import RandomForestClassifier as RandomForest\n",
    "from sklearn.neighbors import NearestNeighbors as KNN\n",
    "from sklearn.model_selection import GridSearchCV\n",
    "from sklearn.model_selection import train_test_split\n",
    "\n",
    "# dermatology_analysis\n",
    "from dermatology_analysis.support_tools import dist, list_to_df\n",
    "\n",
    "%matplotlib inline\n",
    "%config InlineBackend.figure_format = 'retina'\n",
    "sns.set(style=\"ticks\", color_codes=True)\n",
    "\n",
    "# Increae the default figure size for matplotlib:\n",
    "# See: https://stackoverflow.com/a/36368418/4898004.\n",
    "plt_size = np.array(matplt.rcParams['figure.figsize']) * 1.25\n",
    "matplt.rcParams['figure.figsize'] = plt_size"
   ]
  },
  {
   "cell_type": "code",
   "execution_count": 2,
   "metadata": {},
   "outputs": [],
   "source": [
    "# Suppres warnings from sklearn.\n",
    "# See: https://stackoverflow.com/a/33616192/4898004\n",
    "def warn(*args, **kwargs):\n",
    "    pass\n",
    "import warnings\n",
    "warnings.warn = warn"
   ]
  },
  {
   "cell_type": "code",
   "execution_count": 3,
   "metadata": {},
   "outputs": [
    {
     "data": {
      "application/javascript": [
       "var rate = 0;\n",
       "// apply setting to  all current CodeMirror instances\n",
       "IPython.notebook.get_cells().map(\n",
       "    function(c) {return c.code_mirror.options.cursorBlinkRate=rate;}\n",
       ");\n",
       "\n",
       "// make sure new CodeMirror instance also use this setting\n",
       "CodeMirror.defaults.cursorBlinkRate=rate;"
      ],
      "text/plain": [
       "<IPython.core.display.Javascript object>"
      ]
     },
     "metadata": {},
     "output_type": "display_data"
    }
   ],
   "source": [
    "%%javascript\n",
    "var rate = 0;\n",
    "// apply setting to  all current CodeMirror instances\n",
    "IPython.notebook.get_cells().map(\n",
    "    function(c) {return c.code_mirror.options.cursorBlinkRate=rate;}\n",
    ");\n",
    "\n",
    "// make sure new CodeMirror instance also use this setting\n",
    "CodeMirror.defaults.cursorBlinkRate=rate;"
   ]
  },
  {
   "cell_type": "markdown",
   "metadata": {},
   "source": [
    "---"
   ]
  },
  {
   "cell_type": "markdown",
   "metadata": {},
   "source": [
    "## Load the Data"
   ]
  },
  {
   "cell_type": "code",
   "execution_count": 4,
   "metadata": {},
   "outputs": [],
   "source": [
    "from dermatology_analysis.clean import df  # load clean data\n",
    "from data.descriptions import clinical, class_labels"
   ]
  },
  {
   "cell_type": "code",
   "execution_count": 5,
   "metadata": {},
   "outputs": [],
   "source": [
    "# Clinical Features\n",
    "clinical_cols = sorted(clinical.values())"
   ]
  },
  {
   "cell_type": "code",
   "execution_count": 6,
   "metadata": {},
   "outputs": [
    {
     "data": {
      "text/html": [
       "<div>\n",
       "<style scoped>\n",
       "    .dataframe tbody tr th:only-of-type {\n",
       "        vertical-align: middle;\n",
       "    }\n",
       "\n",
       "    .dataframe tbody tr th {\n",
       "        vertical-align: top;\n",
       "    }\n",
       "\n",
       "    .dataframe thead th {\n",
       "        text-align: right;\n",
       "    }\n",
       "</style>\n",
       "<table border=\"1\" class=\"dataframe\">\n",
       "  <thead>\n",
       "    <tr style=\"text-align: right;\">\n",
       "      <th></th>\n",
       "      <th>disease</th>\n",
       "      <th>erythema</th>\n",
       "      <th>scaling</th>\n",
       "      <th>definite_borders</th>\n",
       "      <th>itching</th>\n",
       "      <th>koebner_phenomenon</th>\n",
       "      <th>polygonal_papules</th>\n",
       "      <th>follicular_papules</th>\n",
       "      <th>oral_mucosal_involvement</th>\n",
       "      <th>knee_and_elbow_involvement</th>\n",
       "      <th>scalp_involvement</th>\n",
       "      <th>family_history</th>\n",
       "      <th>age</th>\n",
       "    </tr>\n",
       "  </thead>\n",
       "  <tbody>\n",
       "    <tr>\n",
       "      <th>0</th>\n",
       "      <td>Seboreic Dermatitis</td>\n",
       "      <td>2</td>\n",
       "      <td>2</td>\n",
       "      <td>0</td>\n",
       "      <td>3</td>\n",
       "      <td>0</td>\n",
       "      <td>0</td>\n",
       "      <td>0</td>\n",
       "      <td>0</td>\n",
       "      <td>1</td>\n",
       "      <td>0</td>\n",
       "      <td>0</td>\n",
       "      <td>55.0</td>\n",
       "    </tr>\n",
       "    <tr>\n",
       "      <th>1</th>\n",
       "      <td>Psoriasis</td>\n",
       "      <td>3</td>\n",
       "      <td>3</td>\n",
       "      <td>3</td>\n",
       "      <td>2</td>\n",
       "      <td>1</td>\n",
       "      <td>0</td>\n",
       "      <td>0</td>\n",
       "      <td>0</td>\n",
       "      <td>1</td>\n",
       "      <td>1</td>\n",
       "      <td>1</td>\n",
       "      <td>8.0</td>\n",
       "    </tr>\n",
       "    <tr>\n",
       "      <th>2</th>\n",
       "      <td>Lichen Planus</td>\n",
       "      <td>2</td>\n",
       "      <td>1</td>\n",
       "      <td>2</td>\n",
       "      <td>3</td>\n",
       "      <td>1</td>\n",
       "      <td>3</td>\n",
       "      <td>0</td>\n",
       "      <td>3</td>\n",
       "      <td>0</td>\n",
       "      <td>0</td>\n",
       "      <td>0</td>\n",
       "      <td>26.0</td>\n",
       "    </tr>\n",
       "    <tr>\n",
       "      <th>3</th>\n",
       "      <td>Psoriasis</td>\n",
       "      <td>2</td>\n",
       "      <td>2</td>\n",
       "      <td>2</td>\n",
       "      <td>0</td>\n",
       "      <td>0</td>\n",
       "      <td>0</td>\n",
       "      <td>0</td>\n",
       "      <td>0</td>\n",
       "      <td>3</td>\n",
       "      <td>2</td>\n",
       "      <td>0</td>\n",
       "      <td>40.0</td>\n",
       "    </tr>\n",
       "    <tr>\n",
       "      <th>4</th>\n",
       "      <td>Lichen Planus</td>\n",
       "      <td>2</td>\n",
       "      <td>3</td>\n",
       "      <td>2</td>\n",
       "      <td>2</td>\n",
       "      <td>2</td>\n",
       "      <td>2</td>\n",
       "      <td>0</td>\n",
       "      <td>2</td>\n",
       "      <td>0</td>\n",
       "      <td>0</td>\n",
       "      <td>0</td>\n",
       "      <td>45.0</td>\n",
       "    </tr>\n",
       "  </tbody>\n",
       "</table>\n",
       "</div>"
      ],
      "text/plain": [
       "               disease  erythema  scaling  definite_borders  itching  \\\n",
       "0  Seboreic Dermatitis         2        2                 0        3   \n",
       "1            Psoriasis         3        3                 3        2   \n",
       "2        Lichen Planus         2        1                 2        3   \n",
       "3            Psoriasis         2        2                 2        0   \n",
       "4        Lichen Planus         2        3                 2        2   \n",
       "\n",
       "   koebner_phenomenon  polygonal_papules  follicular_papules  \\\n",
       "0                   0                  0                   0   \n",
       "1                   1                  0                   0   \n",
       "2                   1                  3                   0   \n",
       "3                   0                  0                   0   \n",
       "4                   2                  2                   0   \n",
       "\n",
       "   oral_mucosal_involvement  knee_and_elbow_involvement  scalp_involvement  \\\n",
       "0                         0                           1                  0   \n",
       "1                         0                           1                  1   \n",
       "2                         3                           0                  0   \n",
       "3                         0                           3                  2   \n",
       "4                         2                           0                  0   \n",
       "\n",
       "   family_history   age  \n",
       "0               0  55.0  \n",
       "1               1   8.0  \n",
       "2               0  26.0  \n",
       "3               0  40.0  \n",
       "4               0  45.0  "
      ]
     },
     "execution_count": 6,
     "metadata": {},
     "output_type": "execute_result"
    }
   ],
   "source": [
    "df.head()"
   ]
  },
  {
   "cell_type": "markdown",
   "metadata": {},
   "source": [
    "## Data Overview"
   ]
  },
  {
   "cell_type": "markdown",
   "metadata": {},
   "source": [
    "**Clinical Features:**"
   ]
  },
  {
   "cell_type": "code",
   "execution_count": 7,
   "metadata": {},
   "outputs": [
    {
     "data": {
      "text/html": [
       "<div>\n",
       "<style scoped>\n",
       "    .dataframe tbody tr th:only-of-type {\n",
       "        vertical-align: middle;\n",
       "    }\n",
       "\n",
       "    .dataframe tbody tr th {\n",
       "        vertical-align: top;\n",
       "    }\n",
       "\n",
       "    .dataframe thead th {\n",
       "        text-align: right;\n",
       "    }\n",
       "</style>\n",
       "<table border=\"1\" class=\"dataframe\">\n",
       "  <thead>\n",
       "    <tr style=\"text-align: right;\">\n",
       "      <th></th>\n",
       "      <th></th>\n",
       "      <th></th>\n",
       "      <th></th>\n",
       "      <th></th>\n",
       "    </tr>\n",
       "  </thead>\n",
       "  <tbody>\n",
       "    <tr>\n",
       "      <th></th>\n",
       "      <td>age</td>\n",
       "      <td>definite_borders</td>\n",
       "      <td>erythema</td>\n",
       "      <td>family_history</td>\n",
       "    </tr>\n",
       "    <tr>\n",
       "      <th></th>\n",
       "      <td>follicular_papules</td>\n",
       "      <td>itching</td>\n",
       "      <td>knee_and_elbow_involvement</td>\n",
       "      <td>koebner_phenomenon</td>\n",
       "    </tr>\n",
       "    <tr>\n",
       "      <th></th>\n",
       "      <td>oral_mucosal_involvement</td>\n",
       "      <td>polygonal_papules</td>\n",
       "      <td>scaling</td>\n",
       "      <td>scalp_involvement</td>\n",
       "    </tr>\n",
       "  </tbody>\n",
       "</table>\n",
       "</div>"
      ],
      "text/plain": [
       "                                                                           \\\n",
       "                       age   definite_borders                    erythema   \n",
       "        follicular_papules            itching  knee_and_elbow_involvement   \n",
       "  oral_mucosal_involvement  polygonal_papules                     scaling   \n",
       "\n",
       "                      \n",
       "      family_history  \n",
       "  koebner_phenomenon  \n",
       "   scalp_involvement  "
      ]
     },
     "execution_count": 7,
     "metadata": {},
     "output_type": "execute_result"
    }
   ],
   "source": [
    "list_to_df(clinical_cols)"
   ]
  },
  {
   "cell_type": "markdown",
   "metadata": {},
   "source": [
    "As noted in the data's description:\n",
    "\n",
    "* age is a real-valued scalar\n",
    "* family history is 1 if the disease is present in the family, zero otherwise."
   ]
  },
  {
   "cell_type": "markdown",
   "metadata": {},
   "source": [
    "All other features are in $\\{0, 1, 2, 3\\}$, where $0$ represents the lack of the feature, $3$ its presence in the most sever state and $1$, $2$ denoting relative intermediate values."
   ]
  },
  {
   "cell_type": "markdown",
   "metadata": {},
   "source": [
    "---"
   ]
  },
  {
   "cell_type": "markdown",
   "metadata": {},
   "source": [
    "Lastly, the `disease` column represents the labels, which can be one of the following diseases:  "
   ]
  },
  {
   "cell_type": "code",
   "execution_count": 8,
   "metadata": {},
   "outputs": [
    {
     "data": {
      "text/html": [
       "<div>\n",
       "<style scoped>\n",
       "    .dataframe tbody tr th:only-of-type {\n",
       "        vertical-align: middle;\n",
       "    }\n",
       "\n",
       "    .dataframe tbody tr th {\n",
       "        vertical-align: top;\n",
       "    }\n",
       "\n",
       "    .dataframe thead th {\n",
       "        text-align: right;\n",
       "    }\n",
       "</style>\n",
       "<table border=\"1\" class=\"dataframe\">\n",
       "  <thead>\n",
       "    <tr style=\"text-align: right;\">\n",
       "      <th></th>\n",
       "      <th></th>\n",
       "    </tr>\n",
       "  </thead>\n",
       "  <tbody>\n",
       "    <tr>\n",
       "      <th></th>\n",
       "      <td>Psoriasis</td>\n",
       "    </tr>\n",
       "    <tr>\n",
       "      <th></th>\n",
       "      <td>Seboreic Dermatitis</td>\n",
       "    </tr>\n",
       "    <tr>\n",
       "      <th></th>\n",
       "      <td>Lichen Planus</td>\n",
       "    </tr>\n",
       "    <tr>\n",
       "      <th></th>\n",
       "      <td>Pityriasis Rosea</td>\n",
       "    </tr>\n",
       "    <tr>\n",
       "      <th></th>\n",
       "      <td>Cronic Dermatitis</td>\n",
       "    </tr>\n",
       "    <tr>\n",
       "      <th></th>\n",
       "      <td>Pityriasis Rubra Pilaris</td>\n",
       "    </tr>\n",
       "  </tbody>\n",
       "</table>\n",
       "</div>"
      ],
      "text/plain": [
       "                          \n",
       "                 Psoriasis\n",
       "       Seboreic Dermatitis\n",
       "             Lichen Planus\n",
       "          Pityriasis Rosea\n",
       "         Cronic Dermatitis\n",
       "  Pityriasis Rubra Pilaris"
      ]
     },
     "execution_count": 8,
     "metadata": {},
     "output_type": "execute_result"
    }
   ],
   "source": [
    "list_to_df(class_labels.values(), n=len(class_labels)).T"
   ]
  },
  {
   "cell_type": "markdown",
   "metadata": {},
   "source": [
    "---"
   ]
  },
  {
   "cell_type": "markdown",
   "metadata": {},
   "source": [
    "## Exploratory Data Analysis"
   ]
  },
  {
   "cell_type": "markdown",
   "metadata": {},
   "source": [
    "### Count the number of each label:"
   ]
  },
  {
   "cell_type": "code",
   "execution_count": 9,
   "metadata": {},
   "outputs": [
    {
     "data": {
      "text/plain": [
       "disease\n",
       "Pityriasis Rubra Pilaris     20\n",
       "Pityriasis Rosea             49\n",
       "Cronic Dermatitis            52\n",
       "Seboreic Dermatitis          61\n",
       "Lichen Planus                72\n",
       "Psoriasis                   112\n",
       "Name: disease, dtype: int64"
      ]
     },
     "execution_count": 9,
     "metadata": {},
     "output_type": "execute_result"
    }
   ],
   "source": [
    "df.groupby('disease')['disease'].count().sort_values()"
   ]
  },
  {
   "cell_type": "markdown",
   "metadata": {},
   "source": [
    "Note: classes are not balanced. This could be a big problem, especially with something like Random forrests (my starting point), as the number of observations in each bag may not be balanced. Thankfully, sklearn's `RandomForestClassifer()` class has a `class_weight` param where, if left to it's default of `'balanced'`, weights using `n_samples / (n_classes * np.bincount(y))`. I'll cautiously accept this as a solution."
   ]
  },
  {
   "cell_type": "markdown",
   "metadata": {},
   "source": [
    "### Missing Values"
   ]
  },
  {
   "cell_type": "markdown",
   "metadata": {},
   "source": [
    "We know that there are eight ages missing from the data's description. These rows are shown below."
   ]
  },
  {
   "cell_type": "code",
   "execution_count": 10,
   "metadata": {},
   "outputs": [
    {
     "data": {
      "text/html": [
       "<div>\n",
       "<style scoped>\n",
       "    .dataframe tbody tr th:only-of-type {\n",
       "        vertical-align: middle;\n",
       "    }\n",
       "\n",
       "    .dataframe tbody tr th {\n",
       "        vertical-align: top;\n",
       "    }\n",
       "\n",
       "    .dataframe thead th {\n",
       "        text-align: right;\n",
       "    }\n",
       "</style>\n",
       "<table border=\"1\" class=\"dataframe\">\n",
       "  <thead>\n",
       "    <tr style=\"text-align: right;\">\n",
       "      <th></th>\n",
       "      <th>disease</th>\n",
       "      <th>erythema</th>\n",
       "      <th>scaling</th>\n",
       "      <th>definite_borders</th>\n",
       "      <th>itching</th>\n",
       "      <th>koebner_phenomenon</th>\n",
       "      <th>polygonal_papules</th>\n",
       "      <th>follicular_papules</th>\n",
       "      <th>oral_mucosal_involvement</th>\n",
       "      <th>knee_and_elbow_involvement</th>\n",
       "      <th>scalp_involvement</th>\n",
       "      <th>family_history</th>\n",
       "      <th>age</th>\n",
       "    </tr>\n",
       "  </thead>\n",
       "  <tbody>\n",
       "    <tr>\n",
       "      <th>33</th>\n",
       "      <td>Psoriasis</td>\n",
       "      <td>2</td>\n",
       "      <td>2</td>\n",
       "      <td>1</td>\n",
       "      <td>0</td>\n",
       "      <td>0</td>\n",
       "      <td>0</td>\n",
       "      <td>0</td>\n",
       "      <td>0</td>\n",
       "      <td>1</td>\n",
       "      <td>0</td>\n",
       "      <td>1</td>\n",
       "      <td>NaN</td>\n",
       "    </tr>\n",
       "    <tr>\n",
       "      <th>34</th>\n",
       "      <td>Pityriasis Rosea</td>\n",
       "      <td>2</td>\n",
       "      <td>1</td>\n",
       "      <td>0</td>\n",
       "      <td>0</td>\n",
       "      <td>2</td>\n",
       "      <td>0</td>\n",
       "      <td>0</td>\n",
       "      <td>0</td>\n",
       "      <td>0</td>\n",
       "      <td>0</td>\n",
       "      <td>0</td>\n",
       "      <td>NaN</td>\n",
       "    </tr>\n",
       "    <tr>\n",
       "      <th>35</th>\n",
       "      <td>Seboreic Dermatitis</td>\n",
       "      <td>2</td>\n",
       "      <td>2</td>\n",
       "      <td>1</td>\n",
       "      <td>2</td>\n",
       "      <td>0</td>\n",
       "      <td>0</td>\n",
       "      <td>0</td>\n",
       "      <td>0</td>\n",
       "      <td>0</td>\n",
       "      <td>0</td>\n",
       "      <td>0</td>\n",
       "      <td>NaN</td>\n",
       "    </tr>\n",
       "    <tr>\n",
       "      <th>36</th>\n",
       "      <td>Lichen Planus</td>\n",
       "      <td>2</td>\n",
       "      <td>1</td>\n",
       "      <td>2</td>\n",
       "      <td>3</td>\n",
       "      <td>2</td>\n",
       "      <td>3</td>\n",
       "      <td>0</td>\n",
       "      <td>2</td>\n",
       "      <td>0</td>\n",
       "      <td>0</td>\n",
       "      <td>1</td>\n",
       "      <td>NaN</td>\n",
       "    </tr>\n",
       "    <tr>\n",
       "      <th>262</th>\n",
       "      <td>Cronic Dermatitis</td>\n",
       "      <td>2</td>\n",
       "      <td>1</td>\n",
       "      <td>0</td>\n",
       "      <td>2</td>\n",
       "      <td>0</td>\n",
       "      <td>0</td>\n",
       "      <td>0</td>\n",
       "      <td>0</td>\n",
       "      <td>0</td>\n",
       "      <td>0</td>\n",
       "      <td>0</td>\n",
       "      <td>NaN</td>\n",
       "    </tr>\n",
       "    <tr>\n",
       "      <th>263</th>\n",
       "      <td>Cronic Dermatitis</td>\n",
       "      <td>1</td>\n",
       "      <td>1</td>\n",
       "      <td>1</td>\n",
       "      <td>3</td>\n",
       "      <td>0</td>\n",
       "      <td>0</td>\n",
       "      <td>0</td>\n",
       "      <td>0</td>\n",
       "      <td>0</td>\n",
       "      <td>0</td>\n",
       "      <td>0</td>\n",
       "      <td>NaN</td>\n",
       "    </tr>\n",
       "    <tr>\n",
       "      <th>264</th>\n",
       "      <td>Cronic Dermatitis</td>\n",
       "      <td>1</td>\n",
       "      <td>1</td>\n",
       "      <td>0</td>\n",
       "      <td>2</td>\n",
       "      <td>0</td>\n",
       "      <td>0</td>\n",
       "      <td>0</td>\n",
       "      <td>0</td>\n",
       "      <td>1</td>\n",
       "      <td>0</td>\n",
       "      <td>0</td>\n",
       "      <td>NaN</td>\n",
       "    </tr>\n",
       "    <tr>\n",
       "      <th>265</th>\n",
       "      <td>Cronic Dermatitis</td>\n",
       "      <td>1</td>\n",
       "      <td>1</td>\n",
       "      <td>0</td>\n",
       "      <td>3</td>\n",
       "      <td>0</td>\n",
       "      <td>0</td>\n",
       "      <td>0</td>\n",
       "      <td>0</td>\n",
       "      <td>0</td>\n",
       "      <td>0</td>\n",
       "      <td>0</td>\n",
       "      <td>NaN</td>\n",
       "    </tr>\n",
       "  </tbody>\n",
       "</table>\n",
       "</div>"
      ],
      "text/plain": [
       "                 disease  erythema  scaling  definite_borders  itching  \\\n",
       "33             Psoriasis         2        2                 1        0   \n",
       "34      Pityriasis Rosea         2        1                 0        0   \n",
       "35   Seboreic Dermatitis         2        2                 1        2   \n",
       "36         Lichen Planus         2        1                 2        3   \n",
       "262    Cronic Dermatitis         2        1                 0        2   \n",
       "263    Cronic Dermatitis         1        1                 1        3   \n",
       "264    Cronic Dermatitis         1        1                 0        2   \n",
       "265    Cronic Dermatitis         1        1                 0        3   \n",
       "\n",
       "     koebner_phenomenon  polygonal_papules  follicular_papules  \\\n",
       "33                    0                  0                   0   \n",
       "34                    2                  0                   0   \n",
       "35                    0                  0                   0   \n",
       "36                    2                  3                   0   \n",
       "262                   0                  0                   0   \n",
       "263                   0                  0                   0   \n",
       "264                   0                  0                   0   \n",
       "265                   0                  0                   0   \n",
       "\n",
       "     oral_mucosal_involvement  knee_and_elbow_involvement  scalp_involvement  \\\n",
       "33                          0                           1                  0   \n",
       "34                          0                           0                  0   \n",
       "35                          0                           0                  0   \n",
       "36                          2                           0                  0   \n",
       "262                         0                           0                  0   \n",
       "263                         0                           0                  0   \n",
       "264                         0                           1                  0   \n",
       "265                         0                           0                  0   \n",
       "\n",
       "     family_history  age  \n",
       "33                1  NaN  \n",
       "34                0  NaN  \n",
       "35                0  NaN  \n",
       "36                1  NaN  \n",
       "262               0  NaN  \n",
       "263               0  NaN  \n",
       "264               0  NaN  \n",
       "265               0  NaN  "
      ]
     },
     "execution_count": 10,
     "metadata": {},
     "output_type": "execute_result"
    }
   ],
   "source": [
    "df[pd.isna(df['age'])]"
   ]
  },
  {
   "cell_type": "markdown",
   "metadata": {},
   "source": [
    "For the purpose of this report, I will simply be dropping these rows (complete-case). It should be noted that this may not be without issue. Namely, it is not clear if these missing data are so-called missing completely at random (MCAR). If they're not, and the reason for the absence of this data isn't *completely* random, then this action is liable to introduce bias into the results."
   ]
  },
  {
   "cell_type": "code",
   "execution_count": 11,
   "metadata": {},
   "outputs": [],
   "source": [
    "df = df[~pd.isna(df['age'])].reset_index(drop=True)"
   ]
  },
  {
   "cell_type": "markdown",
   "metadata": {},
   "source": [
    "---"
   ]
  },
  {
   "cell_type": "markdown",
   "metadata": {},
   "source": [
    "*Compute averages for clinical features:*"
   ]
  },
  {
   "cell_type": "code",
   "execution_count": 12,
   "metadata": {},
   "outputs": [],
   "source": [
    "disease_avgs = df.groupby('disease')[clinical_cols].mean().sort_values('age').T.reset_index()\n",
    "disease_avgs = disease_avgs.rename(columns={'index': 'feature'}).reset_index(drop=True)\n",
    "disease_avgs.columns.name = None"
   ]
  },
  {
   "cell_type": "markdown",
   "metadata": {},
   "source": [
    "For now, let's just look at age and family hitory:"
   ]
  },
  {
   "cell_type": "code",
   "execution_count": 13,
   "metadata": {},
   "outputs": [
    {
     "data": {
      "text/html": [
       "<div>\n",
       "<style scoped>\n",
       "    .dataframe tbody tr th:only-of-type {\n",
       "        vertical-align: middle;\n",
       "    }\n",
       "\n",
       "    .dataframe tbody tr th {\n",
       "        vertical-align: top;\n",
       "    }\n",
       "\n",
       "    .dataframe thead th {\n",
       "        text-align: right;\n",
       "    }\n",
       "</style>\n",
       "<table border=\"1\" class=\"dataframe\">\n",
       "  <thead>\n",
       "    <tr style=\"text-align: right;\">\n",
       "      <th></th>\n",
       "      <th>feature</th>\n",
       "      <th>Pityriasis Rubra Pilaris</th>\n",
       "      <th>Pityriasis Rosea</th>\n",
       "      <th>Seboreic Dermatitis</th>\n",
       "      <th>Cronic Dermatitis</th>\n",
       "      <th>Psoriasis</th>\n",
       "      <th>Lichen Planus</th>\n",
       "    </tr>\n",
       "  </thead>\n",
       "  <tbody>\n",
       "    <tr>\n",
       "      <th>0</th>\n",
       "      <td>age</td>\n",
       "      <td>10.25</td>\n",
       "      <td>35.270833</td>\n",
       "      <td>35.466667</td>\n",
       "      <td>36.666667</td>\n",
       "      <td>39.378378</td>\n",
       "      <td>39.957746</td>\n",
       "    </tr>\n",
       "    <tr>\n",
       "      <th>1</th>\n",
       "      <td>family_history</td>\n",
       "      <td>0.50</td>\n",
       "      <td>0.000000</td>\n",
       "      <td>0.050000</td>\n",
       "      <td>0.000000</td>\n",
       "      <td>0.279279</td>\n",
       "      <td>0.000000</td>\n",
       "    </tr>\n",
       "  </tbody>\n",
       "</table>\n",
       "</div>"
      ],
      "text/plain": [
       "          feature  Pityriasis Rubra Pilaris  Pityriasis Rosea  \\\n",
       "0             age                     10.25         35.270833   \n",
       "1  family_history                      0.50          0.000000   \n",
       "\n",
       "   Seboreic Dermatitis  Cronic Dermatitis  Psoriasis  Lichen Planus  \n",
       "0            35.466667          36.666667  39.378378      39.957746  \n",
       "1             0.050000           0.000000   0.279279       0.000000  "
      ]
     },
     "execution_count": 13,
     "metadata": {},
     "output_type": "execute_result"
    }
   ],
   "source": [
    "disease_avgs[disease_avgs['feature'].map(\n",
    "    lambda x: x in ('age', 'family_history'))].reset_index(drop=True)"
   ]
  },
  {
   "cell_type": "markdown",
   "metadata": {},
   "source": [
    "> It appears that the average age for most of these illness is the smale (mid to late thirties), with the notable exception of pityriasis rubra pilaris. It also has the strongest family history, as 50% of these patients had family members with the illness. Psoriasis also appears to have a heritible component.\n",
    "\n",
    "\n",
    "We can now look at the whole table:"
   ]
  },
  {
   "cell_type": "code",
   "execution_count": 14,
   "metadata": {},
   "outputs": [
    {
     "data": {
      "text/html": [
       "<div>\n",
       "<style scoped>\n",
       "    .dataframe tbody tr th:only-of-type {\n",
       "        vertical-align: middle;\n",
       "    }\n",
       "\n",
       "    .dataframe tbody tr th {\n",
       "        vertical-align: top;\n",
       "    }\n",
       "\n",
       "    .dataframe thead th {\n",
       "        text-align: right;\n",
       "    }\n",
       "</style>\n",
       "<table border=\"1\" class=\"dataframe\">\n",
       "  <thead>\n",
       "    <tr style=\"text-align: right;\">\n",
       "      <th></th>\n",
       "      <th>feature</th>\n",
       "      <th>Pityriasis Rubra Pilaris</th>\n",
       "      <th>Pityriasis Rosea</th>\n",
       "      <th>Seboreic Dermatitis</th>\n",
       "      <th>Cronic Dermatitis</th>\n",
       "      <th>Psoriasis</th>\n",
       "      <th>Lichen Planus</th>\n",
       "    </tr>\n",
       "  </thead>\n",
       "  <tbody>\n",
       "    <tr>\n",
       "      <th>0</th>\n",
       "      <td>age</td>\n",
       "      <td>10.25</td>\n",
       "      <td>35.270833</td>\n",
       "      <td>35.466667</td>\n",
       "      <td>36.666667</td>\n",
       "      <td>39.378378</td>\n",
       "      <td>39.957746</td>\n",
       "    </tr>\n",
       "    <tr>\n",
       "      <th>1</th>\n",
       "      <td>definite_borders</td>\n",
       "      <td>1.05</td>\n",
       "      <td>1.208333</td>\n",
       "      <td>0.950000</td>\n",
       "      <td>0.895833</td>\n",
       "      <td>2.108108</td>\n",
       "      <td>2.098592</td>\n",
       "    </tr>\n",
       "    <tr>\n",
       "      <th>2</th>\n",
       "      <td>erythema</td>\n",
       "      <td>2.05</td>\n",
       "      <td>1.895833</td>\n",
       "      <td>2.283333</td>\n",
       "      <td>1.520833</td>\n",
       "      <td>2.288288</td>\n",
       "      <td>2.084507</td>\n",
       "    </tr>\n",
       "    <tr>\n",
       "      <th>3</th>\n",
       "      <td>family_history</td>\n",
       "      <td>0.50</td>\n",
       "      <td>0.000000</td>\n",
       "      <td>0.050000</td>\n",
       "      <td>0.000000</td>\n",
       "      <td>0.279279</td>\n",
       "      <td>0.000000</td>\n",
       "    </tr>\n",
       "    <tr>\n",
       "      <th>4</th>\n",
       "      <td>follicular_papules</td>\n",
       "      <td>2.20</td>\n",
       "      <td>0.000000</td>\n",
       "      <td>0.016667</td>\n",
       "      <td>0.250000</td>\n",
       "      <td>0.036036</td>\n",
       "      <td>0.000000</td>\n",
       "    </tr>\n",
       "    <tr>\n",
       "      <th>5</th>\n",
       "      <td>itching</td>\n",
       "      <td>0.50</td>\n",
       "      <td>0.479167</td>\n",
       "      <td>1.616667</td>\n",
       "      <td>1.833333</td>\n",
       "      <td>0.954955</td>\n",
       "      <td>2.267606</td>\n",
       "    </tr>\n",
       "    <tr>\n",
       "      <th>6</th>\n",
       "      <td>knee_and_elbow_involvement</td>\n",
       "      <td>1.70</td>\n",
       "      <td>0.000000</td>\n",
       "      <td>0.066667</td>\n",
       "      <td>0.020833</td>\n",
       "      <td>1.639640</td>\n",
       "      <td>0.028169</td>\n",
       "    </tr>\n",
       "    <tr>\n",
       "      <th>7</th>\n",
       "      <td>koebner_phenomenon</td>\n",
       "      <td>0.00</td>\n",
       "      <td>1.166667</td>\n",
       "      <td>0.033333</td>\n",
       "      <td>0.000000</td>\n",
       "      <td>0.675676</td>\n",
       "      <td>1.338028</td>\n",
       "    </tr>\n",
       "    <tr>\n",
       "      <th>8</th>\n",
       "      <td>oral_mucosal_involvement</td>\n",
       "      <td>0.00</td>\n",
       "      <td>0.000000</td>\n",
       "      <td>0.000000</td>\n",
       "      <td>0.000000</td>\n",
       "      <td>0.000000</td>\n",
       "      <td>1.915493</td>\n",
       "    </tr>\n",
       "    <tr>\n",
       "      <th>9</th>\n",
       "      <td>polygonal_papules</td>\n",
       "      <td>0.00</td>\n",
       "      <td>0.000000</td>\n",
       "      <td>0.000000</td>\n",
       "      <td>0.000000</td>\n",
       "      <td>0.000000</td>\n",
       "      <td>2.267606</td>\n",
       "    </tr>\n",
       "    <tr>\n",
       "      <th>10</th>\n",
       "      <td>scaling</td>\n",
       "      <td>1.75</td>\n",
       "      <td>1.520833</td>\n",
       "      <td>2.066667</td>\n",
       "      <td>1.145833</td>\n",
       "      <td>2.198198</td>\n",
       "      <td>1.633803</td>\n",
       "    </tr>\n",
       "    <tr>\n",
       "      <th>11</th>\n",
       "      <td>scalp_involvement</td>\n",
       "      <td>0.50</td>\n",
       "      <td>0.000000</td>\n",
       "      <td>0.116667</td>\n",
       "      <td>0.000000</td>\n",
       "      <td>1.540541</td>\n",
       "      <td>0.028169</td>\n",
       "    </tr>\n",
       "  </tbody>\n",
       "</table>\n",
       "</div>"
      ],
      "text/plain": [
       "                       feature  Pityriasis Rubra Pilaris  Pityriasis Rosea  \\\n",
       "0                          age                     10.25         35.270833   \n",
       "1             definite_borders                      1.05          1.208333   \n",
       "2                     erythema                      2.05          1.895833   \n",
       "3               family_history                      0.50          0.000000   \n",
       "4           follicular_papules                      2.20          0.000000   \n",
       "5                      itching                      0.50          0.479167   \n",
       "6   knee_and_elbow_involvement                      1.70          0.000000   \n",
       "7           koebner_phenomenon                      0.00          1.166667   \n",
       "8     oral_mucosal_involvement                      0.00          0.000000   \n",
       "9            polygonal_papules                      0.00          0.000000   \n",
       "10                     scaling                      1.75          1.520833   \n",
       "11           scalp_involvement                      0.50          0.000000   \n",
       "\n",
       "    Seboreic Dermatitis  Cronic Dermatitis  Psoriasis  Lichen Planus  \n",
       "0             35.466667          36.666667  39.378378      39.957746  \n",
       "1              0.950000           0.895833   2.108108       2.098592  \n",
       "2              2.283333           1.520833   2.288288       2.084507  \n",
       "3              0.050000           0.000000   0.279279       0.000000  \n",
       "4              0.016667           0.250000   0.036036       0.000000  \n",
       "5              1.616667           1.833333   0.954955       2.267606  \n",
       "6              0.066667           0.020833   1.639640       0.028169  \n",
       "7              0.033333           0.000000   0.675676       1.338028  \n",
       "8              0.000000           0.000000   0.000000       1.915493  \n",
       "9              0.000000           0.000000   0.000000       2.267606  \n",
       "10             2.066667           1.145833   2.198198       1.633803  \n",
       "11             0.116667           0.000000   1.540541       0.028169  "
      ]
     },
     "execution_count": 14,
     "metadata": {},
     "output_type": "execute_result"
    }
   ],
   "source": [
    "disease_avgs"
   ]
  },
  {
   "cell_type": "markdown",
   "metadata": {},
   "source": [
    "> Sadly, the whole table is a little dense to read, so let's plot it instead."
   ]
  },
  {
   "cell_type": "code",
   "execution_count": 15,
   "metadata": {},
   "outputs": [],
   "source": [
    "# Save data as .feather and plot in R:\n",
    "pd.melt(disease_avgs, id_vars=['feature'], value_vars=None).rename(\n",
    "    columns={'variable': 'disease'}).to_feather('data/intermediate/disease_avgs_melt.feather')"
   ]
  },
  {
   "cell_type": "markdown",
   "metadata": {},
   "source": [
    "Plot Generated by `ggplot2`:"
   ]
  },
  {
   "cell_type": "markdown",
   "metadata": {},
   "source": [
    "![](figures/plot1.png)"
   ]
  },
  {
   "cell_type": "markdown",
   "metadata": {},
   "source": [
    "Note: I have excluded `Family History` and `Age` as these are not on a 0 - 3 scale."
   ]
  },
  {
   "cell_type": "markdown",
   "metadata": {},
   "source": [
    "This gives us an idea of the . Namely, while these are different features, they share severity accross many different clinical features. For instance, erythema, or redness of the skin, tends to be moderatley to quite sever in almost all of these illness. "
   ]
  },
  {
   "cell_type": "markdown",
   "metadata": {},
   "source": [
    "Another way to invetigate this visually is to create a heatmap (using *all* of the clinical features)."
   ]
  },
  {
   "cell_type": "code",
   "execution_count": 16,
   "metadata": {},
   "outputs": [],
   "source": [
    "def distance_heatmap(avg_data_frame):\n",
    "    # Compute distance matrix (normalize rows vectors to have mean zero, unit variance) ---\n",
    "    disease_avgs_sans_features = avg_data_frame.drop(\"feature\", axis=1)\n",
    "    disease_avgs_sans_features_scaled = scale(disease_avgs_sans_features, axis=1)\n",
    "    distance_mat = dist(disease_avgs_sans_features_scaled.T)\n",
    "\n",
    "    # Convert to a DataFrame ---\n",
    "    distance_df = pd.DataFrame(distance_mat)\n",
    "    distance_df.columns = disease_avgs_sans_features.columns\n",
    "    distance_df.index = disease_avgs_sans_features.columns\n",
    "\n",
    "    # Plot ---\n",
    "    return sns.heatmap(distance_df)"
   ]
  },
  {
   "cell_type": "code",
   "execution_count": 17,
   "metadata": {},
   "outputs": [
    {
     "data": {
      "image/png": "[encoded data removed]",
      "text/plain": [
       "<matplotlib.figure.Figure at 0x101a17668>"
      ]
     },
     "metadata": {
      "image/png": {
       "height": 347,
       "width": 449
      }
     },
     "output_type": "display_data"
    }
   ],
   "source": [
    "_ = distance_heatmap(disease_avgs)"
   ]
  },
  {
   "cell_type": "markdown",
   "metadata": {},
   "source": [
    "*Lighter colors denote greater distance appart (i.e., greater dissimilarity).*"
   ]
  },
  {
   "cell_type": "markdown",
   "metadata": {},
   "source": [
    "The plot has been generated by:\n",
    "\n",
    "* Representing each disease by as a column vector of the the 12 features in table of averages above.\n",
    "* Normalizing each feature accross all diseases (i.e., each row in the full table was made to have mean zero and unit variance).\n",
    "* Computing the euclidean distance between each of the column vectors, generating an nxn distance matrix, where n is the number of diseases.\n",
    "* Plotting this distance matrix."
   ]
  },
  {
   "cell_type": "markdown",
   "metadata": {},
   "source": [
    "To take some examples, this allows us to see that Seboreic Dermatitis and Pityriasis Rosea are similar, as are Cronic Dermatitis and Pityriasis Rosea. The model may struggle to tell these diseases appart. Conversely, Lichen Planus and Pityriasis Rubra Pilaris are appear to be quite distinct. It may find it easier to tell these illnesses appart.\n",
    "\n",
    "Of course, we should be cautious reading too much into this plot because it is built ontop of a *summary statistic*: the *mean*. So, let's actually move on to modeling itself."
   ]
  },
  {
   "cell_type": "markdown",
   "metadata": {},
   "source": [
    "---"
   ]
  },
  {
   "cell_type": "markdown",
   "metadata": {},
   "source": [
    "## Feature and Model Selection"
   ]
  },
  {
   "cell_type": "markdown",
   "metadata": {},
   "source": [
    "### Data:"
   ]
  },
  {
   "cell_type": "code",
   "execution_count": 18,
   "metadata": {},
   "outputs": [],
   "source": [
    "features_df = df.drop('disease', axis=1)\n",
    "feature_names = features_df.columns.tolist()\n",
    "\n",
    "X = features_df.values  # Features\n",
    "y = df['disease'].values  # targets"
   ]
  },
  {
   "cell_type": "code",
   "execution_count": 19,
   "metadata": {},
   "outputs": [],
   "source": [
    "# Hold out 10% for testing at the end\n",
    "X_train, X_test, y_train, y_test = train_test_split(X, y, test_size=0.10, random_state=1)"
   ]
  },
  {
   "cell_type": "markdown",
   "metadata": {},
   "source": [
    "---"
   ]
  },
  {
   "cell_type": "markdown",
   "metadata": {},
   "source": [
    "### Feature Selection"
   ]
  },
  {
   "cell_type": "markdown",
   "metadata": {},
   "source": [
    "I will chose the best $5$ features, using the default hyperparemeter settings for `RandomForrests()`.\n",
    "\n",
    "To do this feature selection I will be using Recursive Feature Elimination (RFE, see [here](http://scikit-learn.org/stable/modules/feature_selection.html#rfe)):"
   ]
  },
  {
   "cell_type": "code",
   "execution_count": 20,
   "metadata": {},
   "outputs": [],
   "source": [
    "n_features_to_select = 5\n",
    "rf_rfe = RFE(RandomForest(random_state=7), n_features_to_select).fit(X_train, y_train)"
   ]
  },
  {
   "cell_type": "code",
   "execution_count": 21,
   "metadata": {},
   "outputs": [
    {
     "data": {
      "text/html": [
       "<div>\n",
       "<style scoped>\n",
       "    .dataframe tbody tr th:only-of-type {\n",
       "        vertical-align: middle;\n",
       "    }\n",
       "\n",
       "    .dataframe tbody tr th {\n",
       "        vertical-align: top;\n",
       "    }\n",
       "\n",
       "    .dataframe thead th {\n",
       "        text-align: right;\n",
       "    }\n",
       "</style>\n",
       "<table border=\"1\" class=\"dataframe\">\n",
       "  <thead>\n",
       "    <tr style=\"text-align: right;\">\n",
       "      <th></th>\n",
       "      <th>feature</th>\n",
       "      <th>ranking</th>\n",
       "      <th>included</th>\n",
       "    </tr>\n",
       "  </thead>\n",
       "  <tbody>\n",
       "    <tr>\n",
       "      <th>0</th>\n",
       "      <td>age</td>\n",
       "      <td>1</td>\n",
       "      <td>True</td>\n",
       "    </tr>\n",
       "    <tr>\n",
       "      <th>1</th>\n",
       "      <td>knee_and_elbow_involvement</td>\n",
       "      <td>1</td>\n",
       "      <td>True</td>\n",
       "    </tr>\n",
       "    <tr>\n",
       "      <th>2</th>\n",
       "      <td>koebner_phenomenon</td>\n",
       "      <td>1</td>\n",
       "      <td>True</td>\n",
       "    </tr>\n",
       "    <tr>\n",
       "      <th>3</th>\n",
       "      <td>polygonal_papules</td>\n",
       "      <td>1</td>\n",
       "      <td>True</td>\n",
       "    </tr>\n",
       "    <tr>\n",
       "      <th>4</th>\n",
       "      <td>scalp_involvement</td>\n",
       "      <td>1</td>\n",
       "      <td>True</td>\n",
       "    </tr>\n",
       "    <tr>\n",
       "      <th>5</th>\n",
       "      <td>scaling</td>\n",
       "      <td>2</td>\n",
       "      <td>False</td>\n",
       "    </tr>\n",
       "    <tr>\n",
       "      <th>6</th>\n",
       "      <td>itching</td>\n",
       "      <td>3</td>\n",
       "      <td>False</td>\n",
       "    </tr>\n",
       "    <tr>\n",
       "      <th>7</th>\n",
       "      <td>definite_borders</td>\n",
       "      <td>4</td>\n",
       "      <td>False</td>\n",
       "    </tr>\n",
       "    <tr>\n",
       "      <th>8</th>\n",
       "      <td>oral_mucosal_involvement</td>\n",
       "      <td>5</td>\n",
       "      <td>False</td>\n",
       "    </tr>\n",
       "    <tr>\n",
       "      <th>9</th>\n",
       "      <td>erythema</td>\n",
       "      <td>6</td>\n",
       "      <td>False</td>\n",
       "    </tr>\n",
       "    <tr>\n",
       "      <th>10</th>\n",
       "      <td>follicular_papules</td>\n",
       "      <td>7</td>\n",
       "      <td>False</td>\n",
       "    </tr>\n",
       "    <tr>\n",
       "      <th>11</th>\n",
       "      <td>family_history</td>\n",
       "      <td>8</td>\n",
       "      <td>False</td>\n",
       "    </tr>\n",
       "  </tbody>\n",
       "</table>\n",
       "</div>"
      ],
      "text/plain": [
       "                       feature  ranking  included\n",
       "0                          age        1      True\n",
       "1   knee_and_elbow_involvement        1      True\n",
       "2           koebner_phenomenon        1      True\n",
       "3            polygonal_papules        1      True\n",
       "4            scalp_involvement        1      True\n",
       "5                      scaling        2     False\n",
       "6                      itching        3     False\n",
       "7             definite_borders        4     False\n",
       "8     oral_mucosal_involvement        5     False\n",
       "9                     erythema        6     False\n",
       "10          follicular_papules        7     False\n",
       "11              family_history        8     False"
      ]
     },
     "execution_count": 21,
     "metadata": {},
     "output_type": "execute_result"
    }
   ],
   "source": [
    "# Convert the selected column indicies back into column names:\n",
    "\n",
    "rankings_dict = {feature_names[e]: ranking for e, ranking in enumerate(rf_rfe.ranking_)}\n",
    "\n",
    "rankings_df = pd.DataFrame([rankings_dict])\n",
    "rankings_df = (rankings_df.T\n",
    "               .rename(columns={0: 'ranking'})\n",
    "               .sort_values('ranking')\n",
    "               .reset_index().rename(columns={'index': 'feature'}))\n",
    "\n",
    "rankings_df['included'] = rankings_df.index < n_features_to_select\n",
    "rankings_df"
   ]
  },
  {
   "cell_type": "markdown",
   "metadata": {},
   "source": [
    "Above we can see the top five features that we found to be most helpful in predicting `y`. \n",
    "\n",
    "Interestingly, some of the well-known markers to watch for, such as definite borders, did not make it into the top 5 most predictive features. "
   ]
  },
  {
   "cell_type": "markdown",
   "metadata": {},
   "source": [
    "#### Filter the `X_train` and `X_test` matrices accordingly:"
   ]
  },
  {
   "cell_type": "code",
   "execution_count": 22,
   "metadata": {},
   "outputs": [],
   "source": [
    "X_train = X_train[:, rf_rfe.support_]\n",
    "X_test = X_test[:, rf_rfe.support_]"
   ]
  },
  {
   "cell_type": "code",
   "execution_count": 23,
   "metadata": {},
   "outputs": [],
   "source": [
    "support_col = features_df.columns[rf_rfe.support_]"
   ]
  },
  {
   "cell_type": "markdown",
   "metadata": {},
   "source": [
    "---"
   ]
  },
  {
   "cell_type": "markdown",
   "metadata": {},
   "source": [
    "### Model Selection"
   ]
  },
  {
   "cell_type": "markdown",
   "metadata": {},
   "source": [
    "Next, I'll use cross-validated grid search to find the 'best' value for hyperparameters, given the features that have been selected using the default hyperparameters.\n",
    "\n",
    "Specifically, I will be searching over `n_estimators` and `max_depth`, trying to balance the fundemental trade off of machine learning."
   ]
  },
  {
   "cell_type": "code",
   "execution_count": 24,
   "metadata": {},
   "outputs": [],
   "source": [
    "params = {'n_estimators': list(range(1, 30, 4)), \n",
    "          'max_depth': list((range(1, 20, 4)))}\n",
    "                                                                \n",
    "rf = RandomForest(random_state=7)                                                                \n",
    "rf_gcv = GridSearchCV(rf, params, n_jobs=-1)\n",
    "_ = rf_gcv.fit(X_train, y_train)"
   ]
  },
  {
   "cell_type": "markdown",
   "metadata": {},
   "source": [
    "This yeilds the following selection of hyperparameter values:"
   ]
  },
  {
   "cell_type": "code",
   "execution_count": 25,
   "metadata": {},
   "outputs": [
    {
     "data": {
      "text/plain": [
       "{'max_depth': 5, 'n_estimators': 9}"
      ]
     },
     "execution_count": 25,
     "metadata": {},
     "output_type": "execute_result"
    }
   ],
   "source": [
    "rf_gcv.best_params_"
   ]
  },
  {
   "cell_type": "markdown",
   "metadata": {},
   "source": [
    "Which achieved the following error rate:"
   ]
  },
  {
   "cell_type": "code",
   "execution_count": 26,
   "metadata": {},
   "outputs": [
    {
     "data": {
      "text/plain": [
       "0.24223602484472051"
      ]
     },
     "execution_count": 26,
     "metadata": {},
     "output_type": "execute_result"
    }
   ],
   "source": [
    "1 - rf_gcv.best_score_"
   ]
  },
  {
   "cell_type": "markdown",
   "metadata": {},
   "source": [
    "Next, we can plot all of the results to get a better idea of what `max_depth` of 5, and `n_estimators` of 17 'beat out' to be the best hyperprameters (of those searched over):"
   ]
  },
  {
   "cell_type": "code",
   "execution_count": 27,
   "metadata": {},
   "outputs": [],
   "source": [
    "# Extract Relevant Results\n",
    "results = pd.DataFrame(rf_gcv.cv_results_)[['param_n_estimators', 'param_max_depth', 'mean_test_score']]\n",
    "results['mean_test_error'] = 1 - results['mean_test_score']"
   ]
  },
  {
   "cell_type": "code",
   "execution_count": 28,
   "metadata": {},
   "outputs": [
    {
     "data": {
      "image/png": "[encoded data removed]",
      "text/plain": [
       "<matplotlib.figure.Figure at 0x10ba93dd8>"
      ]
     },
     "metadata": {
      "image/png": {
       "height": 283,
       "width": 457
      }
     },
     "output_type": "display_data"
    }
   ],
   "source": [
    "# Convert `results` to a dictionary\n",
    "to_plot_dict = results.groupby('param_max_depth').apply(\n",
    "    lambda x: dict(zip(x['param_n_estimators'], x['mean_test_error']))).to_dict()\n",
    "\n",
    "# Draw lines\n",
    "for max_depth, v in to_plot_dict.items():\n",
    "    plt.plot(*zip(*v.items()), label=max_depth)\n",
    "    \n",
    "plt.ylabel(\"Mean Test Error Rate\")\n",
    "plt.xlabel(\"Number of Estimators\")\n",
    "plt.title(\"Test Error Rate vs. Number of Estimators x Max Tree Depth\")\n",
    "_ = plt.legend(title=\"Max Depth\", loc='center left', bbox_to_anchor=(1, 0.8))"
   ]
  },
  {
   "cell_type": "markdown",
   "metadata": {},
   "source": [
    "As can be seen above, progress large plateaus w.r.t. Number of Estimators after it hits five (no real additional benifit from the added complexity). More noticeably, `max_depth` initially makes a large difference (1 vs 5), but actually starts to hurt performance when allowed to increase beyond five (overfitting). "
   ]
  },
  {
   "cell_type": "markdown",
   "metadata": {},
   "source": [
    "---"
   ]
  },
  {
   "cell_type": "markdown",
   "metadata": {},
   "source": [
    "## Testing"
   ]
  },
  {
   "cell_type": "markdown",
   "metadata": {},
   "source": [
    "---"
   ]
  },
  {
   "cell_type": "markdown",
   "metadata": {},
   "source": [
    "### Test Performance"
   ]
  },
  {
   "cell_type": "code",
   "execution_count": 29,
   "metadata": {},
   "outputs": [
    {
     "data": {
      "text/plain": [
       "'Error Rate on Test Data: 0.194.'"
      ]
     },
     "execution_count": 29,
     "metadata": {},
     "output_type": "execute_result"
    }
   ],
   "source": [
    "\"Error Rate on Test Data: {}.\".format(round(1 - rf_gcv.score(X_test, y_test), 3))"
   ]
  },
  {
   "cell_type": "markdown",
   "metadata": {},
   "source": [
    "As can be seen above, the model has a ~19% error rate (on six classes), using just five features."
   ]
  },
  {
   "cell_type": "markdown",
   "metadata": {},
   "source": [
    "### Confusion Matrix"
   ]
  },
  {
   "cell_type": "markdown",
   "metadata": {},
   "source": [
    "The next thing we can do is see where the model is making mistakes."
   ]
  },
  {
   "cell_type": "code",
   "execution_count": 30,
   "metadata": {},
   "outputs": [],
   "source": [
    "y_pred = rf_gcv.predict(X_test)\n",
    "y_true = y_test"
   ]
  },
  {
   "cell_type": "code",
   "execution_count": 31,
   "metadata": {},
   "outputs": [
    {
     "data": {
      "image/png": "[encoded data removed]",
      "text/plain": [
       "<matplotlib.figure.Figure at 0x10ba80470>"
      ]
     },
     "metadata": {
      "image/png": {
       "height": 540,
       "width": 617
      }
     },
     "output_type": "display_data"
    }
   ],
   "source": [
    "conf_mat = ConfusionMatrix(y_true, y_pred)\n",
    "_ = conf_mat.plot(normalized=True, cmap='viridis')"
   ]
  },
  {
   "cell_type": "markdown",
   "metadata": {},
   "source": [
    "Colors close to yellow indicate a higher proportion of predictions; colors close to blue indicate few predictions.\n",
    "\n",
    "The idea plot would have a yellow diagonal (correct predictions) and blue elsewhere. Yet, we can observe some dark squares on the main diagonal, and some greenish/yellow plots off the main diagonal. In a word: confusion. To take a few examples, the model (a) seems to find to challenging to understand Cronic Dermatitis itself and (b) liable to confuse Cronic Dermatitis and Seboreic Dermatitis."
   ]
  },
  {
   "cell_type": "markdown",
   "metadata": {},
   "source": [
    "If we recall the distance heatmap from above (refined here to only include the selected features) we can see that the distance between Cronic Dermatitis and Seboreic Dermatitis is quite low on average:"
   ]
  },
  {
   "cell_type": "code",
   "execution_count": 32,
   "metadata": {},
   "outputs": [
    {
     "data": {
      "image/png": "[encoded data removed]",
      "text/plain": [
       "<matplotlib.figure.Figure at 0x10b9e09b0>"
      ]
     },
     "metadata": {
      "image/png": {
       "height": 347,
       "width": 441
      }
     },
     "output_type": "display_data"
    }
   ],
   "source": [
    "disease_avgs_conf = disease_avgs[disease_avgs['feature'].isin(support_col)]\n",
    "order = ['feature', 'Cronic Dermatitis', 'Lichen Planus', 'Pityriasis Rosea',\n",
    "         'Pityriasis Rubra Pilaris', 'Psoriasis', 'Seboreic Dermatitis']\n",
    "_ = distance_heatmap(disease_avgs_conf[order])"
   ]
  },
  {
   "cell_type": "markdown",
   "metadata": {},
   "source": [
    "---"
   ]
  },
  {
   "cell_type": "markdown",
   "metadata": {},
   "source": [
    "## Conclusions"
   ]
  },
  {
   "cell_type": "markdown",
   "metadata": {},
   "source": [
    "In this project I set out to find the top five most predictive clinical features of ESDs using Random Forests as my machine learning model of choice. With feature selection, I found the top five most predictive clinical features for ESDs were:\n",
    "\n",
    "* Koebner Phenomenon\n",
    "* Polygonal Papules\n",
    "* Scalp Involvement\n",
    "* Age\n",
    "* Knee and Elbow Involvement\n",
    "\n",
    "I then used performed model selection by performing hyperparameter optimization. This allowed me to build a model that achieved 19% error on the test data. So, complete the goal presented in my introduction: \n",
    "\n",
    "> The top five clinical predictors of ESDs are koebner phenomenon, polygonal papules, age, scalp involvement, as well as knee and elbow involvement. Using a random forests model these have allowed for 81% test accuracy\"."
   ]
  }
 ],
 "metadata": {
  "kernelspec": {
   "display_name": "Python 3",
   "language": "python",
   "name": "python3"
  },
  "language_info": {
   "codemirror_mode": {
    "name": "ipython",
    "version": 3
   },
   "file_extension": ".py",
   "mimetype": "text/x-python",
   "name": "python",
   "nbconvert_exporter": "python",
   "pygments_lexer": "ipython3",
   "version": "3.6.3"
  }
 },
 "nbformat": 4,
 "nbformat_minor": 2
}
